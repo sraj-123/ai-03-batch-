{
 "cells": [
  {
   "cell_type": "code",
   "execution_count": 8,
   "id": "07a2cf62",
   "metadata": {},
   "outputs": [],
   "source": [
    "import pandas as pd\n",
    "import matplotlib.pyplot as plt\n",
    "import seaborn as sns"
   ]
  },
  {
   "cell_type": "code",
   "execution_count": 9,
   "id": "00730e1d",
   "metadata": {},
   "outputs": [],
   "source": [
    "player_df = pd.read_csv('nba_Player data.csv')"
   ]
  },
  {
   "cell_type": "code",
   "execution_count": 10,
   "id": "8695ef3f",
   "metadata": {},
   "outputs": [
    {
     "data": {
      "text/html": [
       "<div>\n",
       "<style scoped>\n",
       "    .dataframe tbody tr th:only-of-type {\n",
       "        vertical-align: middle;\n",
       "    }\n",
       "\n",
       "    .dataframe tbody tr th {\n",
       "        vertical-align: top;\n",
       "    }\n",
       "\n",
       "    .dataframe thead th {\n",
       "        text-align: right;\n",
       "    }\n",
       "</style>\n",
       "<table border=\"1\" class=\"dataframe\">\n",
       "  <thead>\n",
       "    <tr style=\"text-align: right;\">\n",
       "      <th></th>\n",
       "      <th>Player</th>\n",
       "      <th>Position</th>\n",
       "      <th>Age</th>\n",
       "      <th>Games</th>\n",
       "      <th>Minutes Played</th>\n",
       "      <th>True Shooting(%)</th>\n",
       "      <th>Threepoint Attempt rate</th>\n",
       "      <th>Free throw attempt rate</th>\n",
       "      <th>Player Efficiency Rating</th>\n",
       "    </tr>\n",
       "  </thead>\n",
       "  <tbody>\n",
       "    <tr>\n",
       "      <th>0</th>\n",
       "      <td>Precious Achiuwa</td>\n",
       "      <td>PF</td>\n",
       "      <td>21</td>\n",
       "      <td>28</td>\n",
       "      <td>408.0</td>\n",
       "      <td>0.599</td>\n",
       "      <td>0.000</td>\n",
       "      <td>0.541</td>\n",
       "      <td>15.1</td>\n",
       "    </tr>\n",
       "    <tr>\n",
       "      <th>1</th>\n",
       "      <td>Jaylen Adams</td>\n",
       "      <td>PG</td>\n",
       "      <td>24</td>\n",
       "      <td>6</td>\n",
       "      <td>17.0</td>\n",
       "      <td>0.125</td>\n",
       "      <td>0.250</td>\n",
       "      <td>0.000</td>\n",
       "      <td>-6.9</td>\n",
       "    </tr>\n",
       "    <tr>\n",
       "      <th>2</th>\n",
       "      <td>Steven Adams</td>\n",
       "      <td>C</td>\n",
       "      <td>27</td>\n",
       "      <td>27</td>\n",
       "      <td>760.0</td>\n",
       "      <td>0.592</td>\n",
       "      <td>NaN</td>\n",
       "      <td>0.397</td>\n",
       "      <td>15.9</td>\n",
       "    </tr>\n",
       "    <tr>\n",
       "      <th>3</th>\n",
       "      <td>Bam Adebayo</td>\n",
       "      <td>C</td>\n",
       "      <td>23</td>\n",
       "      <td>26</td>\n",
       "      <td>873.0</td>\n",
       "      <td>0.641</td>\n",
       "      <td>0.015</td>\n",
       "      <td>0.469</td>\n",
       "      <td>22.7</td>\n",
       "    </tr>\n",
       "    <tr>\n",
       "      <th>4</th>\n",
       "      <td>LaMarcus Aldridge</td>\n",
       "      <td>C</td>\n",
       "      <td>35</td>\n",
       "      <td>18</td>\n",
       "      <td>480.0</td>\n",
       "      <td>0.542</td>\n",
       "      <td>0.298</td>\n",
       "      <td>0.093</td>\n",
       "      <td>15.2</td>\n",
       "    </tr>\n",
       "  </tbody>\n",
       "</table>\n",
       "</div>"
      ],
      "text/plain": [
       "              Player Position  Age  Games  Minutes Played  True Shooting(%)  \\\n",
       "0   Precious Achiuwa       PF   21     28           408.0             0.599   \n",
       "1       Jaylen Adams       PG   24      6            17.0             0.125   \n",
       "2       Steven Adams        C   27     27           760.0             0.592   \n",
       "3        Bam Adebayo        C   23     26           873.0             0.641   \n",
       "4  LaMarcus Aldridge        C   35     18           480.0             0.542   \n",
       "\n",
       "   Threepoint Attempt rate  Free throw attempt rate  Player Efficiency Rating  \n",
       "0                    0.000                    0.541                      15.1  \n",
       "1                    0.250                    0.000                      -6.9  \n",
       "2                      NaN                    0.397                      15.9  \n",
       "3                    0.015                    0.469                      22.7  \n",
       "4                    0.298                    0.093                      15.2  "
      ]
     },
     "execution_count": 10,
     "metadata": {},
     "output_type": "execute_result"
    }
   ],
   "source": [
    "player_df.head()"
   ]
  },
  {
   "cell_type": "code",
   "execution_count": 11,
   "id": "a3651136",
   "metadata": {},
   "outputs": [
    {
     "data": {
      "text/plain": [
       "Player                      0\n",
       "Position                    0\n",
       "Age                         0\n",
       "Games                       0\n",
       "Minutes Played              2\n",
       "True Shooting(%)            3\n",
       "Threepoint Attempt rate     2\n",
       "Free throw attempt rate     2\n",
       "Player Efficiency Rating    0\n",
       "dtype: int64"
      ]
     },
     "execution_count": 11,
     "metadata": {},
     "output_type": "execute_result"
    }
   ],
   "source": [
    "player_df.isna().sum()"
   ]
  },
  {
   "cell_type": "code",
   "execution_count": 12,
   "id": "6a441cb5",
   "metadata": {},
   "outputs": [
    {
     "data": {
      "text/plain": [
       "Player                      0\n",
       "Position                    0\n",
       "Age                         0\n",
       "Games                       0\n",
       "Minutes Played              2\n",
       "True Shooting(%)            3\n",
       "Threepoint Attempt rate     2\n",
       "Free throw attempt rate     2\n",
       "Player Efficiency Rating    0\n",
       "dtype: int64"
      ]
     },
     "execution_count": 12,
     "metadata": {},
     "output_type": "execute_result"
    }
   ],
   "source": [
    "player_df.dropna(axis='columns', inplace=True, how='all')\n",
    "player_df.isna().sum()"
   ]
  },
  {
   "cell_type": "code",
   "execution_count": 13,
   "id": "d65e89f8",
   "metadata": {},
   "outputs": [
    {
     "data": {
      "text/plain": [
       "Player                      0.0\n",
       "Position                    0.0\n",
       "Age                         0.0\n",
       "Games                       0.0\n",
       "Minutes Played              0.0\n",
       "True Shooting(%)            0.0\n",
       "Threepoint Attempt rate     0.0\n",
       "Free throw attempt rate     0.0\n",
       "Player Efficiency Rating    0.0\n",
       "dtype: float64"
      ]
     },
     "execution_count": 13,
     "metadata": {},
     "output_type": "execute_result"
    }
   ],
   "source": [
    "player_df.dropna(inplace=True, thresh=12)\n",
    "player_df.isna().sum()"
   ]
  },
  {
   "cell_type": "code",
   "execution_count": 15,
   "id": "2acb46ed",
   "metadata": {},
   "outputs": [],
   "source": [
    "cols = list(player_df.iloc[:, 1:])"
   ]
  },
  {
   "cell_type": "code",
   "execution_count": 21,
   "id": "bf9f5e7e",
   "metadata": {},
   "outputs": [
    {
     "data": {
      "image/png": "[encoded data removed]",
      "text/plain": [
       "<Figure size 1296x792 with 15 Axes>"
      ]
     },
     "metadata": {
      "needs_background": "light"
     },
     "output_type": "display_data"
    }
   ],
   "source": [
    "fig, axes = plt.subplots(3, 5, figsize=(18, 11))\n",
    "fig.tight_layout(pad=0.0)\n"
   ]
  },
  {
   "cell_type": "code",
   "execution_count": 25,
   "id": "598ed15a",
   "metadata": {},
   "outputs": [
    {
     "ename": "IndentationError",
     "evalue": "expected an indented block (3119054967.py, line 2)",
     "output_type": "error",
     "traceback": [
      "\u001b[0;36m  File \u001b[0;32m\"/var/folders/34/wbn340mx311bmghwfgs8r5pr0000gn/T/ipykernel_2643/3119054967.py\"\u001b[0;36m, line \u001b[0;32m2\u001b[0m\n\u001b[0;31m    sns.boxplot(ax=axes[i//5, i%5], y=player_df[cols[i]])\u001b[0m\n\u001b[0m    ^\u001b[0m\n\u001b[0;31mIndentationError\u001b[0m\u001b[0;31m:\u001b[0m expected an indented block\n"
     ]
    }
   ],
   "source": [
    "for i in range(lens(cols)):\n",
    "sns.boxplot(ax=axes[i//5, i%5], y=player_df[cols[i]])"
   ]
  },
  {
   "cell_type": "code",
   "execution_count": 27,
   "id": "a655e509",
   "metadata": {},
   "outputs": [
    {
     "ename": "NameError",
     "evalue": "name 'points_outlier' is not defined",
     "output_type": "error",
     "traceback": [
      "\u001b[0;31m---------------------------------------------------------------------------\u001b[0m",
      "\u001b[0;31mNameError\u001b[0m                                 Traceback (most recent call last)",
      "\u001b[0;32m/var/folders/34/wbn340mx311bmghwfgs8r5pr0000gn/T/ipykernel_2643/2605575296.py\u001b[0m in \u001b[0;36m<module>\u001b[0;34m\u001b[0m\n\u001b[0;32m----> 1\u001b[0;31m \u001b[0mplayer_df\u001b[0m\u001b[0;34m.\u001b[0m\u001b[0mdrop\u001b[0m\u001b[0;34m(\u001b[0m\u001b[0mplayer_df\u001b[0m\u001b[0;34m.\u001b[0m\u001b[0mindex\u001b[0m\u001b[0;34m[\u001b[0m\u001b[0mpoints_outlier\u001b[0m\u001b[0;34m]\u001b[0m\u001b[0;34m,\u001b[0m \u001b[0minplace\u001b[0m\u001b[0;34m=\u001b[0m\u001b[0;32mTrue\u001b[0m\u001b[0;34m)\u001b[0m\u001b[0;34m\u001b[0m\u001b[0;34m\u001b[0m\u001b[0m\n\u001b[0m\u001b[1;32m      2\u001b[0m \u001b[0mplayer_df\u001b[0m\u001b[0;34m.\u001b[0m\u001b[0mtail\u001b[0m\u001b[0;34m(\u001b[0m\u001b[0;36m10\u001b[0m\u001b[0;34m)\u001b[0m\u001b[0;34m\u001b[0m\u001b[0;34m\u001b[0m\u001b[0m\n",
      "\u001b[0;31mNameError\u001b[0m: name 'points_outlier' is not defined"
     ]
    }
   ],
   "source": [
    "player_df.drop(player_df.index[points_outlier], inplace=True)\n",
    "player_df.tail(10)\n"
   ]
  },
  {
   "cell_type": "code",
   "execution_count": null,
   "id": "a64ad4b5",
   "metadata": {},
   "outputs": [],
   "source": []
  },
  {
   "cell_type": "code",
   "execution_count": null,
   "id": "1f331137",
   "metadata": {},
   "outputs": [],
   "source": []
  }
 ],
 "metadata": {
  "kernelspec": {
   "display_name": "Python 3 (ipykernel)",
   "language": "python",
   "name": "python3"
  },
  "language_info": {
   "codemirror_mode": {
    "name": "ipython",
    "version": 3
   },
   "file_extension": ".py",
   "mimetype": "text/x-python",
   "name": "python",
   "nbconvert_exporter": "python",
   "pygments_lexer": "ipython3",
   "version": "3.9.7"
  }
 },
 "nbformat": 4,
 "nbformat_minor": 5
}
