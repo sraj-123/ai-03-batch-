{
 "cells": [
  {
   "cell_type": "code",
   "execution_count": 1,
   "id": "3cd1c0c9",
   "metadata": {},
   "outputs": [],
   "source": [
    "import pandas as pd\n",
    "import requests\n",
    "from bs4 import BeautifulSoup"
   ]
  },
  {
   "cell_type": "code",
   "execution_count": 2,
   "id": "c9055c5c",
   "metadata": {},
   "outputs": [],
   "source": [
    "url = 'https://www.amazon.in/s?k=i+phone'"
   ]
  },
  {
   "cell_type": "code",
   "execution_count": 4,
   "id": "234c46fa",
   "metadata": {},
   "outputs": [],
   "source": [
    "page = requests.get(url)"
   ]
  },
  {
   "cell_type": "code",
   "execution_count": 5,
   "id": "4ca2098d",
   "metadata": {},
   "outputs": [
    {
     "data": {
      "text/plain": [
       "b'<html>\\n<head>\\n<title>503 - Service Unavailable Error</title>\\n</head>\\n<body bgcolor=\"#FFFFFF\" text=\"#000000\">\\n\\n<!--\\n        To discuss automated access to Amazon data please contact api-services-support@amazon.com.\\n        For information about migrating to our APIs refer to our Marketplace APIs at https://developer.amazonservices.in/ref=rm_5_sv, or our Product Advertising API at https://affiliate-program.amazon.in/gp/advertising/api/detail/main.html/ref=rm_5_ac for advertising use cases.\\n-->\\n\\n<center>\\n<a href=\"https://www.amazon.in/ref=cs_503_logo/\">\\n<img src=\"https://images-eu.ssl-images-amazon.com/images/G/31/x-locale/communities/people/logo.gif\" width=200 height=45 alt=\"Amazon.in\" border=0></a>\\n<p align=center>\\n<font face=\"Verdana,Arial,Helvetica\">\\n<font size=\"+2\" color=\"#CC6600\"><b>Oops!</b></font><br>\\n<b>It\\'s rush hour and traffic is piling up on that page. Please try again in a short while.<br>If you were trying to place an order, it will not have been processed at this time.</b><p>\\n\\n<img src=\"https://images-eu.ssl-images-amazon.com/images/G/02/x-locale/common/orange-arrow.gif\" width=10 height=9 border=0 alt=\"*\">\\n<b><a href=\"https://www.amazon.in/ref=cs_503_link/\">Go to the Amazon.in home page to continue shopping</a></b>\\n</font>\\n\\n</center>\\n</body>\\n</html>\\n'"
      ]
     },
     "execution_count": 5,
     "metadata": {},
     "output_type": "execute_result"
    }
   ],
   "source": [
    "page.content"
   ]
  },
  {
   "cell_type": "code",
   "execution_count": 7,
   "id": "228d2272",
   "metadata": {},
   "outputs": [],
   "source": [
    "soup = BeautifulSoup(page.content,'html.parser')"
   ]
  },
  {
   "cell_type": "code",
   "execution_count": 8,
   "id": "b24f816a",
   "metadata": {},
   "outputs": [
    {
     "data": {
      "text/plain": [
       "<html>\n",
       "<head>\n",
       "<title>503 - Service Unavailable Error</title>\n",
       "</head>\n",
       "<body bgcolor=\"#FFFFFF\" text=\"#000000\">\n",
       "<!--\n",
       "        To discuss automated access to Amazon data please contact api-services-support@amazon.com.\n",
       "        For information about migrating to our APIs refer to our Marketplace APIs at https://developer.amazonservices.in/ref=rm_5_sv, or our Product Advertising API at https://affiliate-program.amazon.in/gp/advertising/api/detail/main.html/ref=rm_5_ac for advertising use cases.\n",
       "-->\n",
       "<center>\n",
       "<a href=\"https://www.amazon.in/ref=cs_503_logo/\">\n",
       "<img alt=\"Amazon.in\" border=\"0\" height=\"45\" src=\"https://images-eu.ssl-images-amazon.com/images/G/31/x-locale/communities/people/logo.gif\" width=\"200\"/></a>\n",
       "<p align=\"center\">\n",
       "<font face=\"Verdana,Arial,Helvetica\">\n",
       "<font color=\"#CC6600\" size=\"+2\"><b>Oops!</b></font><br/>\n",
       "<b>It's rush hour and traffic is piling up on that page. Please try again in a short while.<br/>If you were trying to place an order, it will not have been processed at this time.</b><p>\n",
       "<img alt=\"*\" border=\"0\" height=\"9\" src=\"https://images-eu.ssl-images-amazon.com/images/G/02/x-locale/common/orange-arrow.gif\" width=\"10\"/>\n",
       "<b><a href=\"https://www.amazon.in/ref=cs_503_link/\">Go to the Amazon.in home page to continue shopping</a></b>\n",
       "</p></font>\n",
       "</p></center>\n",
       "</body>\n",
       "</html>"
      ]
     },
     "execution_count": 8,
     "metadata": {},
     "output_type": "execute_result"
    }
   ],
   "source": [
    "soup"
   ]
  },
  {
   "cell_type": "code",
   "execution_count": 10,
   "id": "04d0a2b8",
   "metadata": {},
   "outputs": [],
   "source": [
    "shopping = soup.findAll(attrs = {'class':'content'})"
   ]
  },
  {
   "cell_type": "code",
   "execution_count": 12,
   "id": "2c0d3698",
   "metadata": {},
   "outputs": [
    {
     "data": {
      "text/plain": [
       "[]"
      ]
     },
     "execution_count": 12,
     "metadata": {},
     "output_type": "execute_result"
    }
   ],
   "source": [
    "shopping"
   ]
  },
  {
   "cell_type": "code",
   "execution_count": null,
   "id": "4ce8c860",
   "metadata": {},
   "outputs": [],
   "source": []
  }
 ],
 "metadata": {
  "kernelspec": {
   "display_name": "Python 3 (ipykernel)",
   "language": "python",
   "name": "python3"
  },
  "language_info": {
   "codemirror_mode": {
    "name": "ipython",
    "version": 3
   },
   "file_extension": ".py",
   "mimetype": "text/x-python",
   "name": "python",
   "nbconvert_exporter": "python",
   "pygments_lexer": "ipython3",
   "version": "3.9.7"
  }
 },
 "nbformat": 4,
 "nbformat_minor": 5
}
